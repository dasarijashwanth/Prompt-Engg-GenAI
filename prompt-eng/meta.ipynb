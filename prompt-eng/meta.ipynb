{
 "cells": [
  {
   "cell_type": "markdown",
   "metadata": {},
   "source": [
    "\n",
    "\n"
   ]
  },
  {
   "cell_type": "markdown",
   "metadata": {},
   "source": [
    "# Meta Prompting\n",
    "\n",
    "Meta prompting is an advanced technique in prompt engineering that emphasizes the structural and syntactical organization of tasks and problems rather than focusing on their specific content. The objective is to create a more abstract, form-driven way of engaging with large language models (LLMs), highlighting patterns and structure over traditional content-focused methods.\n",
    "\n",
    "As outlined by [Zhang et al. (2024)](https://arxiv.org/abs/2311.11482), the defining features of meta prompting include:\n",
    "\n",
    "* Structure-Oriented: Prioritizes the organization and pattern of problems and solutions instead of specific content.\n",
    "* Syntax-Guided: Leverages syntax as a template to shape the expected responses or solutions.\n",
    "* Abstract Frameworks: Uses abstract examples as blueprints, demonstrating the structure of tasks without relying on concrete details.\n",
    "* Domain Versatility: Can be applied across multiple fields, offering structured solutions to diverse problem types.\n",
    "* Categorical Approach: Draws on type theory to organize and categorize components logically, enhancing prompt coherence and precision."
   ]
  },
  {
   "cell_type": "markdown",
   "metadata": {},
   "source": [
    "## Running this code on MyBind.org\n",
    "\n",
    "Note: remember that you will need to **adjust CONFIG** with **proper URL and API_KEY**!\n",
    "\n",
    "[![Binder](https://mybinder.org/badge_logo.svg)](https://mybinder.org/v2/gh/GenILab-FAU/prompt-eng/HEAD?urlpath=%2Fdoc%2Ftree%2Fprompt-eng%2Fmeta.ipynb)\n",
    "\n"
   ]
  },
  {
   "cell_type": "code",
   "execution_count": 2,
   "metadata": {},
   "outputs": [
    {
     "ename": "ModuleNotFoundError",
     "evalue": "No module named 'pandas'",
     "output_type": "error",
     "traceback": [
      "\u001b[1;31m---------------------------------------------------------------------------\u001b[0m",
      "\u001b[1;31mModuleNotFoundError\u001b[0m                       Traceback (most recent call last)",
      "Cell \u001b[1;32mIn[2], line 6\u001b[0m\n\u001b[0;32m      1\u001b[0m \u001b[38;5;66;03m############################################################\u001b[39;00m\n\u001b[0;32m      2\u001b[0m \u001b[38;5;66;03m## META ANALYSIS: COMPARE TECHNIQUES & OUTPUTS\u001b[39;00m\n\u001b[0;32m      3\u001b[0m \u001b[38;5;66;03m############################################################\u001b[39;00m\n\u001b[0;32m      5\u001b[0m \u001b[38;5;28;01mimport\u001b[39;00m\u001b[38;5;250m \u001b[39m\u001b[38;5;21;01mos\u001b[39;00m\n\u001b[1;32m----> 6\u001b[0m \u001b[38;5;28;01mimport\u001b[39;00m\u001b[38;5;250m \u001b[39m\u001b[38;5;21;01mpandas\u001b[39;00m\u001b[38;5;250m \u001b[39m\u001b[38;5;28;01mas\u001b[39;00m\u001b[38;5;250m \u001b[39m\u001b[38;5;21;01mpd\u001b[39;00m\n\u001b[0;32m      7\u001b[0m \u001b[38;5;28;01mfrom\u001b[39;00m\u001b[38;5;250m \u001b[39m\u001b[38;5;21;01m_pipeline\u001b[39;00m\u001b[38;5;250m \u001b[39m\u001b[38;5;28;01mimport\u001b[39;00m create_payload, model_req\n\u001b[0;32m      9\u001b[0m \u001b[38;5;66;03m# 1) Paths to your log files\u001b[39;00m\n",
      "\u001b[1;31mModuleNotFoundError\u001b[0m: No module named 'pandas'"
     ]
    }
   ],
   "source": [
    "############################################################\n",
    "## META ANALYSIS: COMPARE TECHNIQUES & OUTPUTS\n",
    "############################################################\n",
    "\n",
    "import os\n",
    "import pandas as pd\n",
    "from _pipeline import create_payload, model_req\n",
    "\n",
    "# 1) Paths to your log files\n",
    "ZERO_SHOT_LOG = \"data/zero_shot_logs.csv\"\n",
    "FEW_SHOT_LOG  = \"data/few_shot_logs.csv\"\n",
    "COT_LOG       = \"data/chain_of_thought_logs.csv\"\n",
    "SC_LOG        = \"data/self_consistency_logs.csv\"\n",
    "\n",
    "def load_logs(log_path):\n",
    "    \"\"\"Load CSV logs if the file exists, otherwise return an empty DataFrame.\"\"\"\n",
    "    if os.path.exists(log_path):\n",
    "        return pd.read_csv(log_path)\n",
    "    else:\n",
    "        return pd.DataFrame()\n",
    "\n",
    "# 2) Load partial outputs from each technique\n",
    "df_zero = load_logs(ZERO_SHOT_LOG)\n",
    "df_few  = load_logs(FEW_SHOT_LOG)\n",
    "df_cot  = load_logs(COT_LOG)\n",
    "df_sc   = load_logs(SC_LOG)\n",
    "\n",
    "# 3) Function to extract a representative or final sample output\n",
    "def get_sample_output(df, technique_name):\n",
    "    \"\"\"\n",
    "    Returns a short label plus a snippet of the technique's output.\n",
    "    For demonstration, we grab the last row's 'response' or 'final_output' column.\n",
    "    \"\"\"\n",
    "    if df.empty:\n",
    "        return f\"**{technique_name}:** No logs found.\\n\"\n",
    "    row = df.iloc[-1]\n",
    "    output_text = row.get(\"final_output\") or row.get(\"response\", \"No output\")\n",
    "    # Truncate the output for the meta prompt if it's too long\n",
    "    snippet = (output_text[:400] + \"...\") if len(output_text) > 400 else output_text\n",
    "    return f\"**{technique_name}** (Sample):\\n{snippet}\\n\"\n",
    "\n",
    "# 4) Build a meta-analysis prompt\n",
    "zero_snippet = get_sample_output(df_zero, \"Zero-Shot\")\n",
    "few_snippet  = get_sample_output(df_few,  \"Few-Shot\")\n",
    "cot_snippet  = get_sample_output(df_cot,  \"Chain-of-Thought\")\n",
    "sc_snippet   = get_sample_output(df_sc,   \"Self-Consistency\")\n",
    "\n",
    "META_PROMPT = f\"\"\"\n",
    "You are an AI researcher analyzing various prompt-engineering techniques:\n",
    "- Zero-Shot\n",
    "- Few-Shot\n",
    "- Chain-of-Thought\n",
    "- Self-Consistency\n",
    "\n",
    "Below are representative outputs from each technique:\n",
    "\n",
    "{zero_snippet}\n",
    "\n",
    "{few_snippet}\n",
    "\n",
    "{cot_snippet}\n",
    "\n",
    "{sc_snippet}\n",
    "\n",
    "Please compare these approaches based on:\n",
    "1) Clarity and structure\n",
    "2) Accuracy or completeness\n",
    "3) Speed or efficiency (if known)\n",
    "4) Overall quality\n",
    "\n",
    "Then provide a brief meta-analysis explaining which technique(s) might be best for\n",
    "generating a 'Project Overview' and why. Suggest potential improvements.\n",
    "\"\"\"\n",
    "\n",
    "# 5) Create the payload for meta analysis\n",
    "payload_meta = create_payload(\n",
    "    target=\"open-webui\",\n",
    "    model=\"qwen2\",  # Example model for meta analysis\n",
    "    prompt=META_PROMPT,\n",
    "    temperature=0.7,\n",
    "    num_ctx=250,\n",
    "    num_predict=300\n",
    ")\n",
    "\n",
    "# 6) Send the request\n",
    "time_meta, response_meta = model_req(payload=payload_meta)\n",
    "\n",
    "# 7) Print the meta-analysis\n",
    "print(\"===== META ANALYSIS OUTPUT =====\")\n",
    "print(response_meta)\n",
    "if time_meta:\n",
    "    print(f\"\\nTime taken for meta analysis: {time_meta}s\")\n",
    "\n",
    "# 8) (Optional) Save meta analysis to file\n",
    "os.makedirs(\"outputs\", exist_ok=True)\n",
    "with open(\"outputs/meta_analysis.md\", \"w\", encoding=\"utf-8\") as f:\n",
    "    f.write(response_meta)\n"
   ]
  },
  {
   "cell_type": "code",
   "execution_count": null,
   "metadata": {},
   "outputs": [],
   "source": []
  }
 ],
 "metadata": {
  "kernelspec": {
   "display_name": "Python 3",
   "language": "python",
   "name": "python3"
  },
  "language_info": {
   "codemirror_mode": {
    "name": "ipython",
    "version": 3
   },
   "file_extension": ".py",
   "mimetype": "text/x-python",
   "name": "python",
   "nbconvert_exporter": "python",
   "pygments_lexer": "ipython3",
   "version": "3.13.1"
  }
 },
 "nbformat": 4,
 "nbformat_minor": 2
}
